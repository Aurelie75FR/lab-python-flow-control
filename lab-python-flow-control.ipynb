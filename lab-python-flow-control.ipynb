{
 "cells": [
  {
   "cell_type": "markdown",
   "id": "d3bfc191-8885-42ee-b0a0-bbab867c6f9f",
   "metadata": {
    "tags": []
   },
   "source": [
    "# Lab | Flow Control"
   ]
  },
  {
   "cell_type": "markdown",
   "id": "3851fcd1-cf98-4653-9c89-e003b7ec9400",
   "metadata": {},
   "source": [
    "## Exercise: Managing Customer Orders Optimized\n",
    "\n",
    "In the last lab, you were starting an online store that sells various products. To ensure smooth operations, you developed a program that manages customer orders and inventory.\n",
    "\n",
    "You did so without using flow control. Let's go a step further and improve this code.\n",
    "\n",
    "Follow the steps below to complete the exercise:\n",
    "\n",
    "1. Look at your code from the lab data structures, and improve repeated code with loops.\n",
    "\n",
    "2. Instead of asking the user to input the name of three products that a customer wants to order, do the following:\n",
    "    \n",
    "    a. Prompt the user to enter the name of a product that a customer wants to order.\n",
    "    \n",
    "    b. Add the product name to the \"customer_orders\" set.\n",
    "    \n",
    "    c. Ask the user if they want to add another product (yes/no).\n",
    "    \n",
    "    d. Continue the loop until the user does not want to add another product.\n",
    "\n",
    "3. Instead of updating the inventory by subtracting 1 from the quantity of each product, only do it for  the products that were ordered (those in \"customer_orders\")."
   ]
  },
  {
   "cell_type": "code",
   "execution_count": 1,
   "id": "d84404f8",
   "metadata": {},
   "outputs": [
    {
     "name": "stdout",
     "output_type": "stream",
     "text": [
      "{'t-shirt': 12, 'mug': 12, 'hat': 12, 'book': 12, 'keychain': 12}\n",
      "Customer order after confirmation :  {'mug', 'book'}\n",
      "order statistics:\n",
      "Total products ordered : 2\n",
      "Percentage of products ordered 40.0%\n",
      "updated inventory : t-shirt : 12\n",
      "updated inventory : mug : 11\n",
      "updated inventory : hat : 12\n",
      "updated inventory : book : 11\n",
      "updated inventory : keychain : 12\n"
     ]
    }
   ],
   "source": [
    "#1. \n",
    "products = [\"t-shirt\", \"mug\", \"hat\", \"book\", \"keychain\"]\n",
    "\n",
    "#2. \n",
    "inventory = {}\n",
    "\n",
    "#3.\n",
    "for i in products:\n",
    "    quantity = int(input(f\"How many {products} do you want?\"))\n",
    "    inventory[i] = quantity\n",
    "\n",
    "print(inventory) #test\n",
    "\n",
    "#4. \n",
    "customer_orders = set()\n",
    "\n",
    "#5.\n",
    "while True:\n",
    "    order = input(\"Enter the name of the product you want in your order\")\n",
    "    safety_order = order.lower()\n",
    "    if safety_order in products:\n",
    "        customer_orders.add(safety_order)\n",
    "        confirmation = input(\"Do want to order more ? yes or no ?\").strip().lower()\n",
    "        if confirmation == \"no\": \n",
    "            break\n",
    "    else:\n",
    "        print(\"product not available\")\n",
    "        break\n",
    "\n",
    "\n",
    "\n",
    "\n",
    "#6.\n",
    "print(\"Customer order after confirmation : \",customer_orders)\n",
    "\n",
    "#7. \n",
    "total_order = len(customer_orders)\n",
    "#print(total_order) #test\n",
    "percen_order = (total_order/len(products))*100\n",
    "#print(percen_order) #test\n",
    "order_status = (total_order, percen_order)\n",
    "\n",
    "\n",
    "#8. \n",
    "print(\"order statistics:\")\n",
    "print(f\"Total products ordered : {order_status[0]}\")\n",
    "print(f\"Percentage of products ordered {order_status[1]}%\")\n",
    "\n",
    "#9. \n",
    "for i in customer_orders:\n",
    "    if inventory[i] > 0 and inventory[order] > 0:\n",
    "        inventory[i] -= 1\n",
    "\n",
    "#10. \n",
    "for i,y in inventory.items(): #i = products and y = quantity\n",
    "    print(f\"updated inventory : {i} : {y}\")\n"
   ]
  },
  {
   "cell_type": "code",
   "execution_count": null,
   "id": "e24d8e22",
   "metadata": {},
   "outputs": [],
   "source": []
  }
 ],
 "metadata": {
  "kernelspec": {
   "display_name": "base",
   "language": "python",
   "name": "python3"
  },
  "language_info": {
   "codemirror_mode": {
    "name": "ipython",
    "version": 3
   },
   "file_extension": ".py",
   "mimetype": "text/x-python",
   "name": "python",
   "nbconvert_exporter": "python",
   "pygments_lexer": "ipython3",
   "version": "3.12.4"
  }
 },
 "nbformat": 4,
 "nbformat_minor": 5
}
